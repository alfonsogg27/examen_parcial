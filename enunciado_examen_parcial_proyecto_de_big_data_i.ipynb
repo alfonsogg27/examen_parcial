{
 "cells": [
  {
   "cell_type": "markdown",
   "metadata": {},
   "source": [
    "# Examen parcial  de la asignatura de proyecto de Big Data I"
   ]
  },
  {
   "cell_type": "markdown",
   "metadata": {},
   "source": [
    "## INSTRUCCIONES:\n",
    "\n",
    "1. GRABAR CON MÓVIL O GRABAR PANTALLA, SUSPENSO DIRECTO\n",
    "2. Cuando : 25/11/2021 a las 10:30.\n",
    "3. Cuanto tiempo : 2h\n",
    "4. Que entra : todo lo visto en las clases hasta la fecha del examen.\n",
    "5. Tipo de examen :\n",
    "6. Parte teórica : 60 min. ( Tipo test, desarrollo, múltiple respuesta),\n",
    "7. Parte  práctica : 120 min ( Modificación , añadir funcionalidades de  algunas de las prácticas realizadas en clase )\n",
    "8. Para superar el examen, se deberá obtener mayor o igual que cinco en ambos exámenes."
   ]
  },
  {
   "cell_type": "markdown",
   "metadata": {},
   "source": [
    "###  Pregunta 1\n",
    "#### Puntos posibles 1\n",
    "1. Verifique que tiene instalado Python, git y pyrebase ( escriba los comandos), si no lo estuviese, instálelos."
   ]
  },
  {
   "cell_type": "markdown",
   "metadata": {},
   "source": [
    "###  Pregunta 2\n",
    "#### Puntos posibles 1\n",
    "1. Cree un proyecto y una aplicación en el Cloud,  concretamente en la plataforma Firebase y en  Google Cloud Platform, con el nombre: uenumexp para ambos (ej. ue21535220)\n",
    "2. Cree una base de datos de tipo clave valor en tiempo real que alojara su proyecto de big data\n",
    "3. Active la autentificacion por email\n",
    "4. Reserve espacio de almacenamiento remoto ( Cloud Storage ), todo lo anterior en un cluster/ nodo en la nube los más cercano a nuestro país para reducir la latencia y cumplir el SLA\n",
    "5. Para poder evaluar, añadame como OWNER, mi usuario es: sukuzhanay@gmail.com"
   ]
  },
  {
   "cell_type": "markdown",
   "metadata": {},
   "source": [
    "###  Pregunta 3\n",
    "#### Puntos posibles 1\n",
    "1. Guarde las credenciales ( que obtiene del backend de Firebase ) en variable llamada : uenumexp(ej. ue21535220)\n",
    "2. Conectese  y cree una  aplicación web que dará servicio de autentificación, storage, bases de datos y hosting a su proyecto de Big Data, todo esto desde pyhton.\n",
    "3. Acceda a su backend ( si es la primera vez, cree el usuario), use gmail o el mail de la universidad (ej. sukuzhanay@gmail.com / 21535220),  imprima el \"resguardo del acceso\"\n",
    "4. Autentifiquese (confirme que el correo es real) mediante la recepcion de un token a la cuenta de correo usada en el punto anterior, adjunte captura de la recepcion del email, mediante \"display\", guarde el _idToken_ en la variable _Token_, guarde el _refreshToken_ en la variable _rToken_"
   ]
  },
  {
   "cell_type": "markdown",
   "metadata": {},
   "source": [
    "###  Pregunta 4\n",
    "#### Puntos posibles 1\n",
    "1. Guarde sus credenciales de su Proyecto de Firebase y su usuario en una BBDD noSql de la familia : clave valor, bajo el formato: users/numexp/credenciales (_por ej. users/21535220/credentials_), tambien guarde bajo su mismo numero de usuario el user (por ej. _users/21535220/user_)\n",
    "2. Suba al storage el fichero de los carburantes obtenido hoy, que debe tener la siguiente estructura (por ej. users/21535220/parcial/carburantes.csv)\n",
    "3. Descarguelo para comprobar que funciona\n",
    "4. Recibirá unas credenciales ( por parte del profesor), haga los mismo que en el punto 1 pero con las nuevas credenciales\n"
   ]
  },
  {
   "cell_type": "markdown",
   "metadata": {},
   "source": [
    "###  Pregunta 5\n",
    "#### Puntos posibles 1\n",
    "1. Cree un pipeline en GCP ( como en la practica realizada en clase ), con el objeto de que añada una nueva columna llamada LOW_COST, en la misma deberá etiquetar todas las observaciones en función de si es o no es low-cost.\n",
    "2. \"Una\" el archivo de poblacion con el dataset original (es decir añada la columna poblacion)\n",
    "3. Guarde las consultas y el resultado  en un bucket\n",
    "4. Este proceso deberá ejecutarse los domingos a las 23:00 con el objeto de ahorrar recursos como lo haria en su proyecto\n",
    "5. Para poder evaluar, añadame como OWNER, mi usuario es: sukuzhanay@gmail.com"
   ]
  }
 ],
 "metadata": {
  "kernelspec": {
   "display_name": "Python 3",
   "language": "python",
   "name": "python3"
  },
  "language_info": {
   "codemirror_mode": {
    "name": "ipython",
    "version": 3
   },
   "file_extension": ".py",
   "mimetype": "text/x-python",
   "name": "python",
   "nbconvert_exporter": "python",
   "pygments_lexer": "ipython3",
   "version": "3.8.5"
  },
  "widgets": {
   "application/vnd.jupyter.widget-state+json": {
    "state": {},
    "version_major": 2,
    "version_minor": 0
   }
  }
 },
 "nbformat": 4,
 "nbformat_minor": 4
}
